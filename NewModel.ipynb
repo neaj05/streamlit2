{
 "cells": [
  {
   "cell_type": "code",
   "execution_count": 21,
   "metadata": {
    "collapsed": true,
    "ExecuteTime": {
     "end_time": "2023-10-23T20:18:44.069085100Z",
     "start_time": "2023-10-23T20:18:44.044560100Z"
    }
   },
   "outputs": [
    {
     "name": "stdout",
     "output_type": "stream",
     "text": [
      "Les bibliothèques sont importées\n"
     ]
    }
   ],
   "source": [
    "#Importer les bibliothèques\n",
    "import pandas as pd\n",
    "from ydata_profiling import ProfileReport\n",
    "\n",
    "print(\"Les bibliothèques sont importées\")"
   ]
  },
  {
   "cell_type": "code",
   "execution_count": 22,
   "outputs": [
    {
     "name": "stdout",
     "output_type": "stream",
     "text": [
      "        country  year       uniqueid bank_account location_type  \\\n",
      "4363      Kenya  2018  uniqueid_4364          Yes         Urban   \n",
      "8106     Rwanda  2016  uniqueid_2039           No         Rural   \n",
      "17428  Tanzania  2017  uniqueid_2626           No         Urban   \n",
      "15677  Tanzania  2017   uniqueid_875           No         Urban   \n",
      "822       Kenya  2018   uniqueid_823           No         Rural   \n",
      "14567    Rwanda  2016  uniqueid_8500          Yes         Urban   \n",
      "13970    Rwanda  2016  uniqueid_7903          Yes         Urban   \n",
      "22448    Uganda  2018  uniqueid_1026           No         Rural   \n",
      "21911    Uganda  2018   uniqueid_489           No         Rural   \n",
      "15663  Tanzania  2017   uniqueid_861           No         Urban   \n",
      "\n",
      "      cellphone_access  household_size  age_of_respondent  \\\n",
      "4363               Yes               5                 30   \n",
      "8106               Yes               5                 35   \n",
      "17428              Yes               2                 25   \n",
      "15677               No               3                 68   \n",
      "822                 No               7                 55   \n",
      "14567              Yes               4                 35   \n",
      "13970              Yes               3                 39   \n",
      "22448              Yes               2                 65   \n",
      "21911              Yes               4                 20   \n",
      "15663               No               1                 65   \n",
      "\n",
      "      gender_of_respondent relationship_with_head           marital_status  \\\n",
      "4363                  Male      Head of Household  Married/Living together   \n",
      "8106                  Male      Head of Household  Married/Living together   \n",
      "17428               Female         Other relative       Divorced/Seperated   \n",
      "15677               Female      Head of Household  Married/Living together   \n",
      "822                   Male      Head of Household  Married/Living together   \n",
      "14567               Female      Head of Household                  Widowed   \n",
      "13970               Female      Head of Household       Divorced/Seperated   \n",
      "22448               Female      Head of Household                  Widowed   \n",
      "21911               Female                 Spouse  Married/Living together   \n",
      "15663               Female      Head of Household                  Widowed   \n",
      "\n",
      "           education_level                      job_type  \n",
      "4363   Secondary education                 Self employed  \n",
      "8106     Primary education           Farming and Fishing  \n",
      "17428   Tertiary education                 Self employed  \n",
      "15677  No formal education                 Self employed  \n",
      "822    No formal education           Informally employed  \n",
      "14567  Secondary education  Formally employed Government  \n",
      "13970  Secondary education                 Self employed  \n",
      "22448  No formal education                  Other Income  \n",
      "21911    Primary education                 Self employed  \n",
      "15663  No formal education                 Self employed  \n",
      "<class 'pandas.core.frame.DataFrame'>\n",
      "RangeIndex: 23524 entries, 0 to 23523\n",
      "Data columns (total 13 columns):\n",
      " #   Column                  Non-Null Count  Dtype \n",
      "---  ------                  --------------  ----- \n",
      " 0   country                 23524 non-null  object\n",
      " 1   year                    23524 non-null  int64 \n",
      " 2   uniqueid                23524 non-null  object\n",
      " 3   bank_account            23524 non-null  object\n",
      " 4   location_type           23524 non-null  object\n",
      " 5   cellphone_access        23524 non-null  object\n",
      " 6   household_size          23524 non-null  int64 \n",
      " 7   age_of_respondent       23524 non-null  int64 \n",
      " 8   gender_of_respondent    23524 non-null  object\n",
      " 9   relationship_with_head  23524 non-null  object\n",
      " 10  marital_status          23524 non-null  object\n",
      " 11  education_level         23524 non-null  object\n",
      " 12  job_type                23524 non-null  object\n",
      "dtypes: int64(3), object(10)\n",
      "memory usage: 2.3+ MB\n",
      "None\n"
     ]
    }
   ],
   "source": [
    "# Charger et afficher les 10 premières données\n",
    "data = pd.read_csv('Financial_inclusion_dataset.csv')\n",
    "\n",
    "# Affichage de 10 échantillon aléatoire\n",
    "print(data.sample(10))\n",
    "\n",
    "#Affichage des informations générales\n",
    "\n",
    "print(data.info())"
   ],
   "metadata": {
    "collapsed": false,
    "ExecuteTime": {
     "end_time": "2023-10-23T20:18:48.615443900Z",
     "start_time": "2023-10-23T20:18:48.494551300Z"
    }
   }
  },
  {
   "cell_type": "code",
   "execution_count": 23,
   "outputs": [
    {
     "name": "stdout",
     "output_type": "stream",
     "text": [
      "               year  household_size  age_of_respondent\n",
      "count  23524.000000    23524.000000       23524.000000\n",
      "mean    2016.975939        3.797483          38.805220\n",
      "std        0.847371        2.227613          16.520569\n",
      "min     2016.000000        1.000000          16.000000\n",
      "25%     2016.000000        2.000000          26.000000\n",
      "50%     2017.000000        3.000000          35.000000\n",
      "75%     2018.000000        5.000000          49.000000\n",
      "max     2018.000000       21.000000         100.000000\n"
     ]
    }
   ],
   "source": [
    "#Les éléments statistiques\n",
    "print(data.describe())"
   ],
   "metadata": {
    "collapsed": false,
    "ExecuteTime": {
     "end_time": "2023-10-23T20:18:52.567260Z",
     "start_time": "2023-10-23T20:18:52.537683900Z"
    }
   }
  },
  {
   "cell_type": "code",
   "execution_count": 24,
   "outputs": [
    {
     "name": "stdout",
     "output_type": "stream",
     "text": [
      "les données en double sont supprimées\n"
     ]
    }
   ],
   "source": [
    "# Supprimer les doublons, s’ils existent\n",
    "data.drop_duplicates(inplace=True)\n",
    "print(\"les données en double sont supprimées\")"
   ],
   "metadata": {
    "collapsed": false,
    "ExecuteTime": {
     "end_time": "2023-10-23T20:18:58.048123600Z",
     "start_time": "2023-10-23T20:18:57.970319400Z"
    }
   }
  },
  {
   "cell_type": "code",
   "execution_count": 25,
   "outputs": [
    {
     "data": {
      "text/plain": "country                   0\nyear                      0\nuniqueid                  0\nbank_account              0\nlocation_type             0\ncellphone_access          0\nhousehold_size            0\nage_of_respondent         0\ngender_of_respondent      0\nrelationship_with_head    0\nmarital_status            0\neducation_level           0\njob_type                  0\ndtype: int64"
     },
     "execution_count": 25,
     "metadata": {},
     "output_type": "execute_result"
    }
   ],
   "source": [
    "#Afficher le nombre des valeurs manquantes de chaque colonne\n",
    "\n",
    "data.isnull().sum()"
   ],
   "metadata": {
    "collapsed": false,
    "ExecuteTime": {
     "end_time": "2023-10-23T20:19:04.280519500Z",
     "start_time": "2023-10-23T20:19:04.247351Z"
    }
   }
  },
  {
   "cell_type": "code",
   "execution_count": 26,
   "outputs": [
    {
     "data": {
      "text/plain": "      country  year       uniqueid  bank_account  location_type  \\\n0       Kenya  2018     uniqueid_1             1              1   \n1       Kenya  2018     uniqueid_2             0              1   \n2       Kenya  2018     uniqueid_3             1              0   \n3       Kenya  2018     uniqueid_4             0              1   \n4       Kenya  2018     uniqueid_5             0              0   \n...       ...   ...            ...           ...            ...   \n23519  Uganda  2018  uniqueid_2113             0              1   \n23520  Uganda  2018  uniqueid_2114             0              1   \n23521  Uganda  2018  uniqueid_2115             0              1   \n23522  Uganda  2018  uniqueid_2116             0              0   \n23523  Uganda  2018  uniqueid_2117             0              1   \n\n       cellphone_access  household_size  age_of_respondent  \\\n0                     1               3                 24   \n1                     0               5                 70   \n2                     1               5                 26   \n3                     1               5                 34   \n4                     0               8                 26   \n...                 ...             ...                ...   \n23519                 1               4                 48   \n23520                 1               2                 27   \n23521                 1               5                 27   \n23522                 1               7                 30   \n23523                 1              10                 20   \n\n       gender_of_respondent relationship_with_head           marital_status  \\\n0                         1                 Spouse  Married/Living together   \n1                         1      Head of Household                  Widowed   \n2                         2         Other relative     Single/Never Married   \n3                         1      Head of Household  Married/Living together   \n4                         2                  Child     Single/Never Married   \n...                     ...                    ...                      ...   \n23519                     1      Head of Household       Divorced/Seperated   \n23520                     1      Head of Household     Single/Never Married   \n23521                     1                 Parent                  Widowed   \n23522                     1                 Parent       Divorced/Seperated   \n23523                     2                  Child     Single/Never Married   \n\n                       education_level                   job_type  id_country  \\\n0                  Secondary education              Self employed           0   \n1                  No formal education       Government Dependent           0   \n2      Vocational/Specialised training              Self employed           0   \n3                    Primary education  Formally employed Private           0   \n4                    Primary education        Informally employed           0   \n...                                ...                        ...         ...   \n23519              No formal education               Other Income           3   \n23520              Secondary education               Other Income           3   \n23521                Primary education               Other Income           3   \n23522              Secondary education              Self employed           3   \n23523              Secondary education                  No Income           3   \n\n       code_relationship  code_marital_status  code_job_type  \n0                      5                    2              9  \n1                      1                    4              4  \n2                      3                    3              9  \n3                      1                    2              3  \n4                      0                    3              5  \n...                  ...                  ...            ...  \n23519                  1                    0              7  \n23520                  1                    3              7  \n23521                  4                    4              7  \n23522                  4                    0              9  \n23523                  0                    3              6  \n\n[23524 rows x 17 columns]",
      "text/html": "<div>\n<style scoped>\n    .dataframe tbody tr th:only-of-type {\n        vertical-align: middle;\n    }\n\n    .dataframe tbody tr th {\n        vertical-align: top;\n    }\n\n    .dataframe thead th {\n        text-align: right;\n    }\n</style>\n<table border=\"1\" class=\"dataframe\">\n  <thead>\n    <tr style=\"text-align: right;\">\n      <th></th>\n      <th>country</th>\n      <th>year</th>\n      <th>uniqueid</th>\n      <th>bank_account</th>\n      <th>location_type</th>\n      <th>cellphone_access</th>\n      <th>household_size</th>\n      <th>age_of_respondent</th>\n      <th>gender_of_respondent</th>\n      <th>relationship_with_head</th>\n      <th>marital_status</th>\n      <th>education_level</th>\n      <th>job_type</th>\n      <th>id_country</th>\n      <th>code_relationship</th>\n      <th>code_marital_status</th>\n      <th>code_job_type</th>\n    </tr>\n  </thead>\n  <tbody>\n    <tr>\n      <th>0</th>\n      <td>Kenya</td>\n      <td>2018</td>\n      <td>uniqueid_1</td>\n      <td>1</td>\n      <td>1</td>\n      <td>1</td>\n      <td>3</td>\n      <td>24</td>\n      <td>1</td>\n      <td>Spouse</td>\n      <td>Married/Living together</td>\n      <td>Secondary education</td>\n      <td>Self employed</td>\n      <td>0</td>\n      <td>5</td>\n      <td>2</td>\n      <td>9</td>\n    </tr>\n    <tr>\n      <th>1</th>\n      <td>Kenya</td>\n      <td>2018</td>\n      <td>uniqueid_2</td>\n      <td>0</td>\n      <td>1</td>\n      <td>0</td>\n      <td>5</td>\n      <td>70</td>\n      <td>1</td>\n      <td>Head of Household</td>\n      <td>Widowed</td>\n      <td>No formal education</td>\n      <td>Government Dependent</td>\n      <td>0</td>\n      <td>1</td>\n      <td>4</td>\n      <td>4</td>\n    </tr>\n    <tr>\n      <th>2</th>\n      <td>Kenya</td>\n      <td>2018</td>\n      <td>uniqueid_3</td>\n      <td>1</td>\n      <td>0</td>\n      <td>1</td>\n      <td>5</td>\n      <td>26</td>\n      <td>2</td>\n      <td>Other relative</td>\n      <td>Single/Never Married</td>\n      <td>Vocational/Specialised training</td>\n      <td>Self employed</td>\n      <td>0</td>\n      <td>3</td>\n      <td>3</td>\n      <td>9</td>\n    </tr>\n    <tr>\n      <th>3</th>\n      <td>Kenya</td>\n      <td>2018</td>\n      <td>uniqueid_4</td>\n      <td>0</td>\n      <td>1</td>\n      <td>1</td>\n      <td>5</td>\n      <td>34</td>\n      <td>1</td>\n      <td>Head of Household</td>\n      <td>Married/Living together</td>\n      <td>Primary education</td>\n      <td>Formally employed Private</td>\n      <td>0</td>\n      <td>1</td>\n      <td>2</td>\n      <td>3</td>\n    </tr>\n    <tr>\n      <th>4</th>\n      <td>Kenya</td>\n      <td>2018</td>\n      <td>uniqueid_5</td>\n      <td>0</td>\n      <td>0</td>\n      <td>0</td>\n      <td>8</td>\n      <td>26</td>\n      <td>2</td>\n      <td>Child</td>\n      <td>Single/Never Married</td>\n      <td>Primary education</td>\n      <td>Informally employed</td>\n      <td>0</td>\n      <td>0</td>\n      <td>3</td>\n      <td>5</td>\n    </tr>\n    <tr>\n      <th>...</th>\n      <td>...</td>\n      <td>...</td>\n      <td>...</td>\n      <td>...</td>\n      <td>...</td>\n      <td>...</td>\n      <td>...</td>\n      <td>...</td>\n      <td>...</td>\n      <td>...</td>\n      <td>...</td>\n      <td>...</td>\n      <td>...</td>\n      <td>...</td>\n      <td>...</td>\n      <td>...</td>\n      <td>...</td>\n    </tr>\n    <tr>\n      <th>23519</th>\n      <td>Uganda</td>\n      <td>2018</td>\n      <td>uniqueid_2113</td>\n      <td>0</td>\n      <td>1</td>\n      <td>1</td>\n      <td>4</td>\n      <td>48</td>\n      <td>1</td>\n      <td>Head of Household</td>\n      <td>Divorced/Seperated</td>\n      <td>No formal education</td>\n      <td>Other Income</td>\n      <td>3</td>\n      <td>1</td>\n      <td>0</td>\n      <td>7</td>\n    </tr>\n    <tr>\n      <th>23520</th>\n      <td>Uganda</td>\n      <td>2018</td>\n      <td>uniqueid_2114</td>\n      <td>0</td>\n      <td>1</td>\n      <td>1</td>\n      <td>2</td>\n      <td>27</td>\n      <td>1</td>\n      <td>Head of Household</td>\n      <td>Single/Never Married</td>\n      <td>Secondary education</td>\n      <td>Other Income</td>\n      <td>3</td>\n      <td>1</td>\n      <td>3</td>\n      <td>7</td>\n    </tr>\n    <tr>\n      <th>23521</th>\n      <td>Uganda</td>\n      <td>2018</td>\n      <td>uniqueid_2115</td>\n      <td>0</td>\n      <td>1</td>\n      <td>1</td>\n      <td>5</td>\n      <td>27</td>\n      <td>1</td>\n      <td>Parent</td>\n      <td>Widowed</td>\n      <td>Primary education</td>\n      <td>Other Income</td>\n      <td>3</td>\n      <td>4</td>\n      <td>4</td>\n      <td>7</td>\n    </tr>\n    <tr>\n      <th>23522</th>\n      <td>Uganda</td>\n      <td>2018</td>\n      <td>uniqueid_2116</td>\n      <td>0</td>\n      <td>0</td>\n      <td>1</td>\n      <td>7</td>\n      <td>30</td>\n      <td>1</td>\n      <td>Parent</td>\n      <td>Divorced/Seperated</td>\n      <td>Secondary education</td>\n      <td>Self employed</td>\n      <td>3</td>\n      <td>4</td>\n      <td>0</td>\n      <td>9</td>\n    </tr>\n    <tr>\n      <th>23523</th>\n      <td>Uganda</td>\n      <td>2018</td>\n      <td>uniqueid_2117</td>\n      <td>0</td>\n      <td>1</td>\n      <td>1</td>\n      <td>10</td>\n      <td>20</td>\n      <td>2</td>\n      <td>Child</td>\n      <td>Single/Never Married</td>\n      <td>Secondary education</td>\n      <td>No Income</td>\n      <td>3</td>\n      <td>0</td>\n      <td>3</td>\n      <td>6</td>\n    </tr>\n  </tbody>\n</table>\n<p>23524 rows × 17 columns</p>\n</div>"
     },
     "execution_count": 26,
     "metadata": {},
     "output_type": "execute_result"
    }
   ],
   "source": [
    "#Encodage des variables catégorielles :\n",
    "\n",
    "#country\n",
    "\n",
    "data['id_country'] = data['country'].astype('category').cat.codes #permet de donner une valeur entier unique à chaque region\n",
    "\n",
    "#bank_account et cellphone_access\n",
    "\n",
    "data[[\"bank_account\",\"cellphone_access\"]] = data[[\"bank_account\",\"cellphone_access\"]].replace([\"Yes\",\"No\"],[1,0])\n",
    "\n",
    "# location_type\n",
    "\n",
    "data[[\"location_type\"]] = data[[\"location_type\"]].replace([\"Rural\",\"Urban\"],[1,0])\n",
    "\n",
    "# gender_of_respondent\n",
    "\n",
    "data[[\"gender_of_respondent\"]] = data[[\"gender_of_respondent\"]].replace([\"Female\",\"Male\"],[1,2])\n",
    "\n",
    "# relationship_with_head\n",
    "\n",
    "data[\"code_relationship\"] = data[\"relationship_with_head\"].astype('category').cat.codes\n",
    "\n",
    "# marital_status\n",
    "\n",
    "data[\"code_marital_status\"] = data[\"marital_status\"].astype('category').cat.codes\n",
    "\n",
    "# job_type\n",
    "\n",
    "data[\"code_job_type\"] = data[\"job_type\"].astype('category').cat.codes\n",
    "\n",
    "data"
   ],
   "metadata": {
    "collapsed": false,
    "ExecuteTime": {
     "end_time": "2023-10-23T20:19:12.698888200Z",
     "start_time": "2023-10-23T20:19:12.624345100Z"
    }
   }
  },
  {
   "cell_type": "code",
   "execution_count": 27,
   "outputs": [
    {
     "data": {
      "text/plain": "       year  bank_account  location_type  cellphone_access  household_size  \\\n0      2018             1              1                 1               3   \n1      2018             0              1                 0               5   \n2      2018             1              0                 1               5   \n3      2018             0              1                 1               5   \n4      2018             0              0                 0               8   \n...     ...           ...            ...               ...             ...   \n23519  2018             0              1                 1               4   \n23520  2018             0              1                 1               2   \n23521  2018             0              1                 1               5   \n23522  2018             0              0                 1               7   \n23523  2018             0              1                 1              10   \n\n       age_of_respondent  gender_of_respondent  id_country  code_relationship  \\\n0                     24                     1           0                  5   \n1                     70                     1           0                  1   \n2                     26                     2           0                  3   \n3                     34                     1           0                  1   \n4                     26                     2           0                  0   \n...                  ...                   ...         ...                ...   \n23519                 48                     1           3                  1   \n23520                 27                     1           3                  1   \n23521                 27                     1           3                  4   \n23522                 30                     1           3                  4   \n23523                 20                     2           3                  0   \n\n       code_marital_status  code_job_type  \n0                        2              9  \n1                        4              4  \n2                        3              9  \n3                        2              3  \n4                        3              5  \n...                    ...            ...  \n23519                    0              7  \n23520                    3              7  \n23521                    4              7  \n23522                    0              9  \n23523                    3              6  \n\n[23524 rows x 11 columns]",
      "text/html": "<div>\n<style scoped>\n    .dataframe tbody tr th:only-of-type {\n        vertical-align: middle;\n    }\n\n    .dataframe tbody tr th {\n        vertical-align: top;\n    }\n\n    .dataframe thead th {\n        text-align: right;\n    }\n</style>\n<table border=\"1\" class=\"dataframe\">\n  <thead>\n    <tr style=\"text-align: right;\">\n      <th></th>\n      <th>year</th>\n      <th>bank_account</th>\n      <th>location_type</th>\n      <th>cellphone_access</th>\n      <th>household_size</th>\n      <th>age_of_respondent</th>\n      <th>gender_of_respondent</th>\n      <th>id_country</th>\n      <th>code_relationship</th>\n      <th>code_marital_status</th>\n      <th>code_job_type</th>\n    </tr>\n  </thead>\n  <tbody>\n    <tr>\n      <th>0</th>\n      <td>2018</td>\n      <td>1</td>\n      <td>1</td>\n      <td>1</td>\n      <td>3</td>\n      <td>24</td>\n      <td>1</td>\n      <td>0</td>\n      <td>5</td>\n      <td>2</td>\n      <td>9</td>\n    </tr>\n    <tr>\n      <th>1</th>\n      <td>2018</td>\n      <td>0</td>\n      <td>1</td>\n      <td>0</td>\n      <td>5</td>\n      <td>70</td>\n      <td>1</td>\n      <td>0</td>\n      <td>1</td>\n      <td>4</td>\n      <td>4</td>\n    </tr>\n    <tr>\n      <th>2</th>\n      <td>2018</td>\n      <td>1</td>\n      <td>0</td>\n      <td>1</td>\n      <td>5</td>\n      <td>26</td>\n      <td>2</td>\n      <td>0</td>\n      <td>3</td>\n      <td>3</td>\n      <td>9</td>\n    </tr>\n    <tr>\n      <th>3</th>\n      <td>2018</td>\n      <td>0</td>\n      <td>1</td>\n      <td>1</td>\n      <td>5</td>\n      <td>34</td>\n      <td>1</td>\n      <td>0</td>\n      <td>1</td>\n      <td>2</td>\n      <td>3</td>\n    </tr>\n    <tr>\n      <th>4</th>\n      <td>2018</td>\n      <td>0</td>\n      <td>0</td>\n      <td>0</td>\n      <td>8</td>\n      <td>26</td>\n      <td>2</td>\n      <td>0</td>\n      <td>0</td>\n      <td>3</td>\n      <td>5</td>\n    </tr>\n    <tr>\n      <th>...</th>\n      <td>...</td>\n      <td>...</td>\n      <td>...</td>\n      <td>...</td>\n      <td>...</td>\n      <td>...</td>\n      <td>...</td>\n      <td>...</td>\n      <td>...</td>\n      <td>...</td>\n      <td>...</td>\n    </tr>\n    <tr>\n      <th>23519</th>\n      <td>2018</td>\n      <td>0</td>\n      <td>1</td>\n      <td>1</td>\n      <td>4</td>\n      <td>48</td>\n      <td>1</td>\n      <td>3</td>\n      <td>1</td>\n      <td>0</td>\n      <td>7</td>\n    </tr>\n    <tr>\n      <th>23520</th>\n      <td>2018</td>\n      <td>0</td>\n      <td>1</td>\n      <td>1</td>\n      <td>2</td>\n      <td>27</td>\n      <td>1</td>\n      <td>3</td>\n      <td>1</td>\n      <td>3</td>\n      <td>7</td>\n    </tr>\n    <tr>\n      <th>23521</th>\n      <td>2018</td>\n      <td>0</td>\n      <td>1</td>\n      <td>1</td>\n      <td>5</td>\n      <td>27</td>\n      <td>1</td>\n      <td>3</td>\n      <td>4</td>\n      <td>4</td>\n      <td>7</td>\n    </tr>\n    <tr>\n      <th>23522</th>\n      <td>2018</td>\n      <td>0</td>\n      <td>0</td>\n      <td>1</td>\n      <td>7</td>\n      <td>30</td>\n      <td>1</td>\n      <td>3</td>\n      <td>4</td>\n      <td>0</td>\n      <td>9</td>\n    </tr>\n    <tr>\n      <th>23523</th>\n      <td>2018</td>\n      <td>0</td>\n      <td>1</td>\n      <td>1</td>\n      <td>10</td>\n      <td>20</td>\n      <td>2</td>\n      <td>3</td>\n      <td>0</td>\n      <td>3</td>\n      <td>6</td>\n    </tr>\n  </tbody>\n</table>\n<p>23524 rows × 11 columns</p>\n</div>"
     },
     "execution_count": 27,
     "metadata": {},
     "output_type": "execute_result"
    }
   ],
   "source": [
    "#Récuperer les données pour l'analyse\n",
    "data_analyse = data.drop([\"country\",\"uniqueid\",\"relationship_with_head\",\"marital_status\",\"education_level\",\"job_type\"],axis=1).copy()\n",
    "\n",
    "data_analyse"
   ],
   "metadata": {
    "collapsed": false,
    "ExecuteTime": {
     "end_time": "2023-10-23T20:19:20.377660600Z",
     "start_time": "2023-10-23T20:19:20.346804900Z"
    }
   }
  },
  {
   "cell_type": "code",
   "execution_count": 28,
   "outputs": [
    {
     "name": "stdout",
     "output_type": "stream",
     "text": [
      "Précision : 0.8584484590860786\n",
      "Matrice de confusion : [[4023   14]\n",
      " [ 652   16]]\n",
      "Rapport de classification :\n",
      "              precision    recall  f1-score   support\n",
      "\n",
      "           0       0.86      1.00      0.92      4037\n",
      "           1       0.53      0.02      0.05       668\n",
      "\n",
      "    accuracy                           0.86      4705\n",
      "   macro avg       0.70      0.51      0.48      4705\n",
      "weighted avg       0.81      0.86      0.80      4705\n",
      "\n"
     ]
    }
   ],
   "source": [
    "#Importation des bibliothèques\n",
    "\n",
    "from sklearn.model_selection import train_test_split\n",
    "from sklearn.preprocessing import StandardScaler\n",
    "from sklearn.linear_model import LogisticRegression\n",
    "from sklearn.metrics import accuracy_score, confusion_matrix, classification_report\n",
    "\n",
    "# Préparation du jeu de données pour la modélisation\n",
    "X = data_analyse.drop([\"bank_account\"], axis=1)\n",
    "y = data_analyse['bank_account']\n",
    "\n",
    "# Division des données en ensembles d'entraînement et de test\n",
    "X_train, X_test, y_train, y_test = train_test_split(X, y, test_size=0.2, random_state=60)\n",
    "\n",
    "# Prétraitez les données en mettant à l'échelle les caractéristiques (normalisation)\n",
    "scaler = StandardScaler()\n",
    "X_train = scaler.fit_transform(X_train)\n",
    "X_test = scaler.transform(X_test)\n",
    "\n",
    "# Créez un modèle de régression logistique\n",
    "model = LogisticRegression()\n",
    "\n",
    "# Entraînez le modèle sur l'ensemble d'entraînement\n",
    "model.fit(X_train, y_train)\n",
    "\n",
    "# Faites des prédictions sur l'ensemble de test\n",
    "y_pred = model.predict(X_test)\n",
    "\n",
    "# Évaluez les performances du modèle\n",
    "accuracy = accuracy_score(y_test, y_pred)\n",
    "confusion_mat = confusion_matrix(y_test, y_pred)\n",
    "report = classification_report(y_test, y_pred)\n",
    "\n",
    "# Affichez les résultats\n",
    "print(\"Précision :\", accuracy)\n",
    "print(\"Matrice de confusion :\", confusion_mat)\n",
    "print(\"Rapport de classification :\")\n",
    "print(report)"
   ],
   "metadata": {
    "collapsed": false,
    "ExecuteTime": {
     "end_time": "2023-10-23T20:19:24.778468700Z",
     "start_time": "2023-10-23T20:19:24.710129100Z"
    }
   }
  },
  {
   "cell_type": "code",
   "execution_count": 29,
   "outputs": [
    {
     "data": {
      "text/plain": "['projet_streamlit2.joblib']"
     },
     "execution_count": 29,
     "metadata": {},
     "output_type": "execute_result"
    }
   ],
   "source": [
    "import joblib\n",
    "\n",
    "joblib.dump(model, \"projet_streamlit2.joblib\")"
   ],
   "metadata": {
    "collapsed": false,
    "ExecuteTime": {
     "end_time": "2023-10-23T20:19:30.133141300Z",
     "start_time": "2023-10-23T20:19:30.115721Z"
    }
   }
  },
  {
   "cell_type": "code",
   "execution_count": null,
   "outputs": [],
   "source": [],
   "metadata": {
    "collapsed": false
   }
  }
 ],
 "metadata": {
  "kernelspec": {
   "display_name": "Python 3",
   "language": "python",
   "name": "python3"
  },
  "language_info": {
   "codemirror_mode": {
    "name": "ipython",
    "version": 2
   },
   "file_extension": ".py",
   "mimetype": "text/x-python",
   "name": "python",
   "nbconvert_exporter": "python",
   "pygments_lexer": "ipython2",
   "version": "2.7.6"
  }
 },
 "nbformat": 4,
 "nbformat_minor": 0
}
